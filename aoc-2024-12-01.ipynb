{
 "cells": [
  {
   "cell_type": "markdown",
   "metadata": {},
   "source": [
    "# Advent of Code, 1st Dec 2024"
   ]
  },
  {
   "cell_type": "markdown",
   "metadata": {},
   "source": [
    "## Historian Hysteria - Part 1"
   ]
  },
  {
   "cell_type": "markdown",
   "metadata": {},
   "source": [
    "The Chief Historian is always present for the big Christmas sleigh launch, but nobody has seen him in months! Last anyone heard, he was visiting locations that are historically significant to the North Pole; a group of Senior Historians has asked you to accompany them as they check the places they think he was most likely to visit.\n",
    "\n",
    "As each location is checked, they will mark it on their list with a star. They figure the Chief Historian must be in one of the first fifty places they'll look, so in order to save Christmas, you need to help them get fifty stars on their list before Santa takes off on December 25th.\n",
    "\n",
    "Collect stars by solving puzzles. Two puzzles will be made available on each day in the Advent calendar; the second puzzle is unlocked when you complete the first. Each puzzle grants one star. Good luck!\n",
    "\n",
    "You haven't even left yet and the group of Elvish Senior Historians has already hit a problem: their list of locations to check is currently empty. Eventually, someone decides that the best place to check first would be the Chief Historian's office.\n",
    "\n",
    "Upon pouring into the office, everyone confirms that the Chief Historian is indeed nowhere to be found. Instead, the Elves discover an assortment of notes and lists of historically significant locations! This seems to be the planning the Chief Historian was doing before he left. Perhaps these notes can be used to determine which locations to search?\n",
    "\n",
    "Throughout the Chief's office, the historically significant locations are listed not by name but by a unique number called the location ID. To make sure they don't miss anything, The Historians split into two groups, each searching the office and trying to create their own complete list of location IDs.\n",
    "\n",
    "There's just one problem: by holding the two lists up side by side (your puzzle input), it quickly becomes clear that the lists aren't very similar. Maybe you can help The Historians reconcile their lists?\n",
    "\n",
    "For example:\n",
    "\n",
    "| List one | List two |\n",
    "|----------|----------|\n",
    "| 3 | 4 |\n",
    "| 4 | 3 |\n",
    "| 2 | 5 |\n",
    "| 1 | 3 |\n",
    "| 3 | 9 |\n",
    "| 3 | 3 |\n",
    "\n",
    "Maybe the lists are only off by a small amount! To find out, pair up the numbers and measure how far apart they are. Pair up the smallest number in the left list with the smallest number in the right list, then the second-smallest left number with the second-smallest right number, and so on.\n",
    "\n",
    "Within each pair, figure out how far apart the two numbers are; you'll need to add up all of those distances. For example, if you pair up a 3 from the left list with a 7 from the right list, the distance apart is 4; if you pair up a 9 with a 3, the distance apart is 6.\n",
    "\n",
    "In the example list above, the pairs and distances would be as follows:\n",
    "\n",
    "The smallest number in the left list is 1, and the smallest number in the right list is 3. The distance between them is 2.\n",
    "The second-smallest number in the left list is 2, and the second-smallest number in the right list is another 3. The distance between them is 1.\n",
    "The third-smallest number in both lists is 3, so the distance between them is 0.\n",
    "The next numbers to pair up are 3 and 4, a distance of 1.\n",
    "The fifth-smallest numbers in each list are 3 and 5, a distance of 2.\n",
    "Finally, the largest number in the left list is 4, while the largest number in the right list is 9; these are a distance 5 apart.\n",
    "To find the total distance between the left list and the right list, add up the distances between all of the pairs you found. In the example above, this is 2 + 1 + 0 + 1 + 2 + 5, a total distance of 11!\n",
    "\n",
    "Your actual left and right lists contain many location IDs. What is the total distance between your lists?"
   ]
  },
  {
   "cell_type": "markdown",
   "metadata": {},
   "source": [
    "### Read in the input data"
   ]
  },
  {
   "cell_type": "code",
   "execution_count": 5,
   "metadata": {
    "dotnet_interactive": {
     "language": "fsharp"
    },
    "polyglot_notebook": {
     "kernelName": "fsharp"
    },
    "vscode": {
     "languageId": "polyglot-notebook"
    }
   },
   "outputs": [],
   "source": [
    "#!F#\n",
    "let inputFilePath = \"aoc-2024-12-01-puzzle-input.txt\""
   ]
  },
  {
   "cell_type": "markdown",
   "metadata": {},
   "source": [
    "Read the lines from the file."
   ]
  },
  {
   "cell_type": "code",
   "execution_count": 6,
   "metadata": {
    "dotnet_interactive": {
     "language": "fsharp"
    },
    "polyglot_notebook": {
     "kernelName": "fsharp"
    },
    "vscode": {
     "languageId": "polyglot-notebook"
    }
   },
   "outputs": [
    {
     "data": {
      "text/plain": [
       "58990   83989"
      ]
     },
     "metadata": {},
     "output_type": "display_data"
    }
   ],
   "source": [
    "open System.IO\n",
    "\n",
    "let lines: string list = File.ReadAllLines(inputFilePath) |> Array.toList\n",
    "lines[0]"
   ]
  },
  {
   "cell_type": "markdown",
   "metadata": {},
   "source": [
    "Convert each line into a pair of integers."
   ]
  },
  {
   "cell_type": "code",
   "execution_count": 7,
   "metadata": {
    "dotnet_interactive": {
     "language": "fsharp"
    },
    "polyglot_notebook": {
     "kernelName": "fsharp"
    },
    "vscode": {
     "languageId": "polyglot-notebook"
    }
   },
   "outputs": [
    {
     "data": {
      "text/html": [
       "<details open=\"open\" class=\"dni-treeview\"><summary><span class=\"dni-code-hint\"><code>(58990, 83989)</code></span></summary><div><table><thead><tr></tr></thead><tbody><tr><td>Item1</td><td><div class=\"dni-plaintext\"><pre>58990</pre></div></td></tr><tr><td>Item2</td><td><div class=\"dni-plaintext\"><pre>83989</pre></div></td></tr></tbody></table></div></details><style>\r\n",
       ".dni-code-hint {\r\n",
       "    font-style: italic;\r\n",
       "    overflow: hidden;\r\n",
       "    white-space: nowrap;\r\n",
       "}\r\n",
       ".dni-treeview {\r\n",
       "    white-space: nowrap;\r\n",
       "}\r\n",
       ".dni-treeview td {\r\n",
       "    vertical-align: top;\r\n",
       "    text-align: start;\r\n",
       "}\r\n",
       "details.dni-treeview {\r\n",
       "    padding-left: 1em;\r\n",
       "}\r\n",
       "table td {\r\n",
       "    text-align: start;\r\n",
       "}\r\n",
       "table tr { \r\n",
       "    vertical-align: top; \r\n",
       "    margin: 0em 0px;\r\n",
       "}\r\n",
       "table tr td pre \r\n",
       "{ \r\n",
       "    vertical-align: top !important; \r\n",
       "    margin: 0em 0px !important;\r\n",
       "} \r\n",
       "table th {\r\n",
       "    text-align: start;\r\n",
       "}\r\n",
       "</style>"
      ]
     },
     "metadata": {},
     "output_type": "display_data"
    }
   ],
   "source": [
    "let locationsPairs: (int*int) list =\n",
    "    lines\n",
    "    |> List.map (fun line -> line.Split(' ') |> Array.toList)\n",
    "    |> List.map (fun strList -> (strList |> List.filter (fun str -> str.Length >= 1)))\n",
    "    |> List.map (fun strList -> (strList |> List.map (fun str -> Int32.Parse(str))))\n",
    "    |> List.map (fun pairList -> (pairList[0], pairList[1]))\n",
    "locationsPairs[0]"
   ]
  },
  {
   "cell_type": "markdown",
   "metadata": {},
   "source": [
    "Next we need to split the pairs into two lists, and sort those lists from smallest to largest."
   ]
  },
  {
   "cell_type": "code",
   "execution_count": 14,
   "metadata": {
    "dotnet_interactive": {
     "language": "fsharp"
    },
    "polyglot_notebook": {
     "kernelName": "fsharp"
    },
    "vscode": {
     "languageId": "polyglot-notebook"
    }
   },
   "outputs": [
    {
     "data": {
      "text/html": [
       "<details open=\"open\" class=\"dni-treeview\"><summary><span class=\"dni-code-hint\"><code>(10173, 10181)</code></span></summary><div><table><thead><tr></tr></thead><tbody><tr><td>Item1</td><td><div class=\"dni-plaintext\"><pre>10173</pre></div></td></tr><tr><td>Item2</td><td><div class=\"dni-plaintext\"><pre>10181</pre></div></td></tr></tbody></table></div></details><style>\r\n",
       ".dni-code-hint {\r\n",
       "    font-style: italic;\r\n",
       "    overflow: hidden;\r\n",
       "    white-space: nowrap;\r\n",
       "}\r\n",
       ".dni-treeview {\r\n",
       "    white-space: nowrap;\r\n",
       "}\r\n",
       ".dni-treeview td {\r\n",
       "    vertical-align: top;\r\n",
       "    text-align: start;\r\n",
       "}\r\n",
       "details.dni-treeview {\r\n",
       "    padding-left: 1em;\r\n",
       "}\r\n",
       "table td {\r\n",
       "    text-align: start;\r\n",
       "}\r\n",
       "table tr { \r\n",
       "    vertical-align: top; \r\n",
       "    margin: 0em 0px;\r\n",
       "}\r\n",
       "table tr td pre \r\n",
       "{ \r\n",
       "    vertical-align: top !important; \r\n",
       "    margin: 0em 0px !important;\r\n",
       "} \r\n",
       "table th {\r\n",
       "    text-align: start;\r\n",
       "}\r\n",
       "</style>"
      ]
     },
     "metadata": {},
     "output_type": "display_data"
    }
   ],
   "source": [
    "let locations1, locations2 = locationsPairs |> List.unzip\n",
    "let sortedLocations1 = locations1 |> List.sort\n",
    "let sortedLocations2 = locations2 |> List.sort\n",
    "let sortedLocationPairs: (int*int) list = List.zip sortedLocations1 sortedLocations2\n",
    "sortedLocationPairs[0]"
   ]
  },
  {
   "cell_type": "markdown",
   "metadata": {},
   "source": [
    "Now calculate the absolute difference of each pair, then sum those differences."
   ]
  },
  {
   "cell_type": "code",
   "execution_count": 15,
   "metadata": {
    "dotnet_interactive": {
     "language": "fsharp"
    },
    "polyglot_notebook": {
     "kernelName": "fsharp"
    },
    "vscode": {
     "languageId": "polyglot-notebook"
    }
   },
   "outputs": [
    {
     "data": {
      "text/html": [
       "<div class=\"dni-plaintext\"><pre>2113135</pre></div><style>\r\n",
       ".dni-code-hint {\r\n",
       "    font-style: italic;\r\n",
       "    overflow: hidden;\r\n",
       "    white-space: nowrap;\r\n",
       "}\r\n",
       ".dni-treeview {\r\n",
       "    white-space: nowrap;\r\n",
       "}\r\n",
       ".dni-treeview td {\r\n",
       "    vertical-align: top;\r\n",
       "    text-align: start;\r\n",
       "}\r\n",
       "details.dni-treeview {\r\n",
       "    padding-left: 1em;\r\n",
       "}\r\n",
       "table td {\r\n",
       "    text-align: start;\r\n",
       "}\r\n",
       "table tr { \r\n",
       "    vertical-align: top; \r\n",
       "    margin: 0em 0px;\r\n",
       "}\r\n",
       "table tr td pre \r\n",
       "{ \r\n",
       "    vertical-align: top !important; \r\n",
       "    margin: 0em 0px !important;\r\n",
       "} \r\n",
       "table th {\r\n",
       "    text-align: start;\r\n",
       "}\r\n",
       "</style>"
      ]
     },
     "metadata": {},
     "output_type": "display_data"
    }
   ],
   "source": [
    "let distance = sortedLocationPairs |> List.map (fun (x:int,y:int) -> Math.Abs(x-y)) |> List.sum\n",
    "distance"
   ]
  },
  {
   "cell_type": "markdown",
   "metadata": {},
   "source": [
    "## Historian Hysteria - Part 2"
   ]
  },
  {
   "cell_type": "markdown",
   "metadata": {},
   "source": [
    "Your analysis only confirmed what everyone feared: the two lists of location IDs are indeed very different.\n",
    "\n",
    "Or are they?\n",
    "\n",
    "The Historians can't agree on which group made the mistakes or how to read most of the Chief's handwriting, but in the commotion you notice an interesting detail: a lot of location IDs appear in both lists! Maybe the other numbers aren't location IDs at all but rather misinterpreted handwriting.\n",
    "\n",
    "This time, you'll need to figure out exactly how often each number from the left list appears in the right list. Calculate a total similarity score by adding up each number in the left list after multiplying it by the number of times that number appears in the right list.\n",
    "\n",
    "Here are the same example lists again:\n",
    "\n",
    "| List one | List two |\n",
    "|----------|----------|\n",
    "| 3 | 4 |\n",
    "| 4 | 3 |\n",
    "| 2 | 5 |\n",
    "| 1 | 3 |\n",
    "| 3 | 9 |\n",
    "| 3 | 3 |\n",
    "\n",
    "For these example lists, here is the process of finding the similarity score:\n",
    "\n",
    "The first number in the left list is 3. It appears in the right list three times, so the similarity score increases by 3 * 3 = 9.\n",
    "The second number in the left list is 4. It appears in the right list once, so the similarity score increases by 4 * 1 = 4.\n",
    "The third number in the left list is 2. It does not appear in the right list, so the similarity score does not increase (2 * 0 = 0).\n",
    "The fourth number, 1, also does not appear in the right list.\n",
    "The fifth number, 3, appears in the right list three times; the similarity score increases by 9.\n",
    "The last number, 3, appears in the right list three times; the similarity score again increases by 9.\n",
    "So, for these example lists, the similarity score at the end of this process is 31 (9 + 4 + 0 + 0 + 9 + 9).\n",
    "\n",
    "Once again consider your left and right lists. What is their similarity score?"
   ]
  },
  {
   "cell_type": "code",
   "execution_count": 17,
   "metadata": {
    "dotnet_interactive": {
     "language": "fsharp"
    },
    "polyglot_notebook": {
     "kernelName": "fsharp"
    },
    "vscode": {
     "languageId": "polyglot-notebook"
    }
   },
   "outputs": [],
   "source": [
    "let rec findSimilarities (sortedList1: int list) (sortedList2: int list) (similarityMap: Map<int,int>): Map<int,int> =\n",
    "    match sortedList1 with\n",
    "    | [] -> similarityMap\n",
    "    | head1::tail1 ->\n",
    "        match sortedList2 with\n",
    "        [] -> similarityMap\n",
    "        | head2::tail2 ->\n",
    "            match (head1, head2) with\n",
    "            | (head1, head2) when head1 < head2 -> findSimilarities tail1 sortedList2 similarityMap\n",
    "            | (head1, head2) when head1 > head2 -> findSimilarities sortedList1 tail2 similarityMap\n",
    "            | (head1, head2) -> // head1 == head2\n",
    "                let newSimilarityMap =\n",
    "                    if (similarityMap |> Map.containsKey head1)\n",
    "                    then similarityMap |> Map.add head1 (similarityMap[head1] + 1)\n",
    "                    else similarityMap |> Map.add head1 1\n",
    "                findSimilarities sortedList1 tail2 newSimilarityMap // don't discard 'head1' here"
   ]
  },
  {
   "cell_type": "code",
   "execution_count": 19,
   "metadata": {
    "dotnet_interactive": {
     "language": "fsharp"
    },
    "polyglot_notebook": {
     "kernelName": "fsharp"
    },
    "vscode": {
     "languageId": "polyglot-notebook"
    }
   },
   "outputs": [
    {
     "data": {
      "text/html": [
       "<table><thead><tr><th><i>key</i></th><th>value</th></tr></thead><tbody><tr><td><div class=\"dni-plaintext\"><pre>10311</pre></div></td><td><div class=\"dni-plaintext\"><pre>12</pre></div></td></tr><tr><td><div class=\"dni-plaintext\"><pre>13469</pre></div></td><td><div class=\"dni-plaintext\"><pre>13</pre></div></td></tr><tr><td><div class=\"dni-plaintext\"><pre>13732</pre></div></td><td><div class=\"dni-plaintext\"><pre>1</pre></div></td></tr><tr><td><div class=\"dni-plaintext\"><pre>17840</pre></div></td><td><div class=\"dni-plaintext\"><pre>14</pre></div></td></tr><tr><td><div class=\"dni-plaintext\"><pre>20464</pre></div></td><td><div class=\"dni-plaintext\"><pre>18</pre></div></td></tr><tr><td><div class=\"dni-plaintext\"><pre>22168</pre></div></td><td><div class=\"dni-plaintext\"><pre>5</pre></div></td></tr><tr><td><div class=\"dni-plaintext\"><pre>22708</pre></div></td><td><div class=\"dni-plaintext\"><pre>8</pre></div></td></tr><tr><td><div class=\"dni-plaintext\"><pre>25790</pre></div></td><td><div class=\"dni-plaintext\"><pre>11</pre></div></td></tr><tr><td><div class=\"dni-plaintext\"><pre>25959</pre></div></td><td><div class=\"dni-plaintext\"><pre>17</pre></div></td></tr><tr><td><div class=\"dni-plaintext\"><pre>26012</pre></div></td><td><div class=\"dni-plaintext\"><pre>10</pre></div></td></tr><tr><td><div class=\"dni-plaintext\"><pre>26730</pre></div></td><td><div class=\"dni-plaintext\"><pre>7</pre></div></td></tr><tr><td><div class=\"dni-plaintext\"><pre>27706</pre></div></td><td><div class=\"dni-plaintext\"><pre>3</pre></div></td></tr><tr><td><div class=\"dni-plaintext\"><pre>27870</pre></div></td><td><div class=\"dni-plaintext\"><pre>11</pre></div></td></tr><tr><td><div class=\"dni-plaintext\"><pre>31037</pre></div></td><td><div class=\"dni-plaintext\"><pre>18</pre></div></td></tr><tr><td><div class=\"dni-plaintext\"><pre>32327</pre></div></td><td><div class=\"dni-plaintext\"><pre>19</pre></div></td></tr><tr><td><div class=\"dni-plaintext\"><pre>33231</pre></div></td><td><div class=\"dni-plaintext\"><pre>14</pre></div></td></tr><tr><td><div class=\"dni-plaintext\"><pre>33911</pre></div></td><td><div class=\"dni-plaintext\"><pre>17</pre></div></td></tr><tr><td><div class=\"dni-plaintext\"><pre>41105</pre></div></td><td><div class=\"dni-plaintext\"><pre>4</pre></div></td></tr><tr><td><div class=\"dni-plaintext\"><pre>44236</pre></div></td><td><div class=\"dni-plaintext\"><pre>6</pre></div></td></tr><tr><td><div class=\"dni-plaintext\"><pre>49558</pre></div></td><td><div class=\"dni-plaintext\"><pre>13</pre></div></td></tr><tr><td colspan=\"2\"><i>... (more)</i></td></tr></tbody></table><style>\r\n",
       ".dni-code-hint {\r\n",
       "    font-style: italic;\r\n",
       "    overflow: hidden;\r\n",
       "    white-space: nowrap;\r\n",
       "}\r\n",
       ".dni-treeview {\r\n",
       "    white-space: nowrap;\r\n",
       "}\r\n",
       ".dni-treeview td {\r\n",
       "    vertical-align: top;\r\n",
       "    text-align: start;\r\n",
       "}\r\n",
       "details.dni-treeview {\r\n",
       "    padding-left: 1em;\r\n",
       "}\r\n",
       "table td {\r\n",
       "    text-align: start;\r\n",
       "}\r\n",
       "table tr { \r\n",
       "    vertical-align: top; \r\n",
       "    margin: 0em 0px;\r\n",
       "}\r\n",
       "table tr td pre \r\n",
       "{ \r\n",
       "    vertical-align: top !important; \r\n",
       "    margin: 0em 0px !important;\r\n",
       "} \r\n",
       "table th {\r\n",
       "    text-align: start;\r\n",
       "}\r\n",
       "</style>"
      ]
     },
     "metadata": {},
     "output_type": "display_data"
    }
   ],
   "source": [
    "let similarities = findSimilarities sortedLocations1 sortedLocations2 Map.empty<int,int>\n",
    "similarities"
   ]
  },
  {
   "cell_type": "markdown",
   "metadata": {},
   "source": [
    "Having found the similarities, we now sum them."
   ]
  },
  {
   "cell_type": "code",
   "execution_count": 20,
   "metadata": {
    "dotnet_interactive": {
     "language": "fsharp"
    },
    "polyglot_notebook": {
     "kernelName": "fsharp"
    },
    "vscode": {
     "languageId": "polyglot-notebook"
    }
   },
   "outputs": [
    {
     "data": {
      "text/html": [
       "<div class=\"dni-plaintext\"><pre>19097157</pre></div><style>\r\n",
       ".dni-code-hint {\r\n",
       "    font-style: italic;\r\n",
       "    overflow: hidden;\r\n",
       "    white-space: nowrap;\r\n",
       "}\r\n",
       ".dni-treeview {\r\n",
       "    white-space: nowrap;\r\n",
       "}\r\n",
       ".dni-treeview td {\r\n",
       "    vertical-align: top;\r\n",
       "    text-align: start;\r\n",
       "}\r\n",
       "details.dni-treeview {\r\n",
       "    padding-left: 1em;\r\n",
       "}\r\n",
       "table td {\r\n",
       "    text-align: start;\r\n",
       "}\r\n",
       "table tr { \r\n",
       "    vertical-align: top; \r\n",
       "    margin: 0em 0px;\r\n",
       "}\r\n",
       "table tr td pre \r\n",
       "{ \r\n",
       "    vertical-align: top !important; \r\n",
       "    margin: 0em 0px !important;\r\n",
       "} \r\n",
       "table th {\r\n",
       "    text-align: start;\r\n",
       "}\r\n",
       "</style>"
      ]
     },
     "metadata": {},
     "output_type": "display_data"
    }
   ],
   "source": [
    "similarities |> Map.toList |> List.map (fun (value,count) -> value*count) |> List.sum"
   ]
  }
 ],
 "metadata": {
  "kernelspec": {
   "display_name": ".NET (C#)",
   "language": "C#",
   "name": ".net-csharp"
  },
  "language_info": {
   "name": "python"
  },
  "polyglot_notebook": {
   "kernelInfo": {
    "defaultKernelName": "csharp",
    "items": [
     {
      "aliases": [],
      "name": "csharp"
     }
    ]
   }
  }
 },
 "nbformat": 4,
 "nbformat_minor": 2
}
