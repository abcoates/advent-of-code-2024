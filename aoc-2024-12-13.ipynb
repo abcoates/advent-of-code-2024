{
 "cells": [
  {
   "cell_type": "markdown",
   "metadata": {},
   "source": [
    "# Advent of Code, 13th Dec 2024"
   ]
  },
  {
   "cell_type": "markdown",
   "metadata": {},
   "source": [
    "## Claw Contraption - Part 1"
   ]
  },
  {
   "cell_type": "markdown",
   "metadata": {},
   "source": [
    "Next up: the lobby of a resort on a tropical island. The Historians take a moment to admire the hexagonal floor tiles before spreading out.\n",
    "\n",
    "Fortunately, it looks like the resort has a new arcade! Maybe you can win some prizes from the claw machines?\n",
    "\n",
    "The claw machines here are a little unusual. Instead of a joystick or directional buttons to control the claw, these machines have two buttons labeled A and B. Worse, you can't just put in a token and play; it costs **3 tokens** to push the A button and **1 token** to push the B button.\n",
    "\n",
    "With a little experimentation, you figure out that each machine's buttons are configured to move the claw a specific amount to the **right** (along the X axis) and a specific amount **forward** (along the Y axis) each time that button is pressed.\n",
    "\n",
    "Each machine contains one **prize**; to win the prize, the claw must be positioned **exactly** above the prize on both the X and Y axes.\n",
    "\n",
    "You wonder: what is the smallest number of tokens you would have to spend to win as many prizes as possible? You assemble a list of every machine's button behavior and prize location (your puzzle input). For example:\n",
    "\n",
    "```\n",
    "Button A: X+94, Y+34\n",
    "Button B: X+22, Y+67\n",
    "Prize: X=8400, Y=5400\n",
    "```\n",
    "\n",
    "```\n",
    "Button A: X+26, Y+66\n",
    "Button B: X+67, Y+21\n",
    "Prize: X=12748, Y=12176\n",
    "```\n",
    "\n",
    "```\n",
    "Button A: X+17, Y+86\n",
    "Button B: X+84, Y+37\n",
    "Prize: X=7870, Y=6450\n",
    "```\n",
    "\n",
    "```\n",
    "Button A: X+69, Y+23\n",
    "Button B: X+27, Y+71\n",
    "Prize: X=18641, Y=10279\n",
    "```\n",
    "\n",
    "This list describes the button configuration and prize location of four different claw machines.\n",
    "\n",
    "For now, consider just the first claw machine in the list:\n",
    "\n",
    "* Pushing the machine's A button would move the claw 94 units along the X axis and 34 units along the Y axis.\n",
    "* Pushing the B button would move the claw 22 units along the X axis and 67 units along the Y axis.\n",
    "* The prize is located at X=8400, Y=5400; this means that from the claw's initial position, it would need to move exactly 8400 units along the X axis and exactly 5400 units along the Y axis to be perfectly aligned with the prize in this machine.\n",
    "\n",
    "The cheapest way to win the prize is by pushing the A button 80 times and the B button 40 times. This would line up the claw along the X axis (because 80\\*94 + 40\\*22 = 8400) and along the Y axis (because 80\\*34 + 40\\*67 = 5400). Doing this would cost 80\\*3 tokens for the A presses and 40\\*1 for the B presses, a total of **280** tokens.\n",
    "\n",
    "For the second and fourth claw machines, there is no combination of A and B presses that will ever win a prize.\n",
    "\n",
    "For the third claw machine, the cheapest way to win the prize is by pushing the A button 38 times and the B button 86 times. Doing this would cost a total of **200** tokens.\n",
    "\n",
    "So, the most prizes you could possibly win is two; the minimum tokens you would have to spend to win all (two) prizes is **480**.\n",
    "\n",
    "You estimate that each button would need to be pressed **no more than 100 times** to win a prize. How else would someone be expected to play?\n",
    "\n",
    "Figure out how to win as many prizes as possible. **What is the fewest tokens you would have to spend to win all possible prizes?**"
   ]
  },
  {
   "cell_type": "markdown",
   "metadata": {},
   "source": [
    "### Read in the data"
   ]
  },
  {
   "cell_type": "code",
   "execution_count": 1,
   "metadata": {
    "dotnet_interactive": {
     "language": "fsharp"
    },
    "polyglot_notebook": {
     "kernelName": "fsharp"
    },
    "vscode": {
     "languageId": "polyglot-notebook"
    }
   },
   "outputs": [],
   "source": [
    "#!F#\n",
    "let inputFilePath = \"aoc-2024-12-13-puzzle-input.txt\""
   ]
  },
  {
   "cell_type": "markdown",
   "metadata": {},
   "source": [
    "Read the lines from the file."
   ]
  },
  {
   "cell_type": "code",
   "execution_count": 2,
   "metadata": {
    "dotnet_interactive": {
     "language": "fsharp"
    },
    "polyglot_notebook": {
     "kernelName": "fsharp"
    },
    "vscode": {
     "languageId": "polyglot-notebook"
    }
   },
   "outputs": [
    {
     "data": {
      "text/html": [
       "<div class=\"dni-plaintext\"><pre>1279</pre></div><style>\r\n",
       ".dni-code-hint {\r\n",
       "    font-style: italic;\r\n",
       "    overflow: hidden;\r\n",
       "    white-space: nowrap;\r\n",
       "}\r\n",
       ".dni-treeview {\r\n",
       "    white-space: nowrap;\r\n",
       "}\r\n",
       ".dni-treeview td {\r\n",
       "    vertical-align: top;\r\n",
       "    text-align: start;\r\n",
       "}\r\n",
       "details.dni-treeview {\r\n",
       "    padding-left: 1em;\r\n",
       "}\r\n",
       "table td {\r\n",
       "    text-align: start;\r\n",
       "}\r\n",
       "table tr { \r\n",
       "    vertical-align: top; \r\n",
       "    margin: 0em 0px;\r\n",
       "}\r\n",
       "table tr td pre \r\n",
       "{ \r\n",
       "    vertical-align: top !important; \r\n",
       "    margin: 0em 0px !important;\r\n",
       "} \r\n",
       "table th {\r\n",
       "    text-align: start;\r\n",
       "}\r\n",
       "</style>"
      ]
     },
     "metadata": {},
     "output_type": "display_data"
    }
   ],
   "source": [
    "open System.IO\n",
    "\n",
    "let lines: string list = File.ReadAllLines(inputFilePath) |> Array.toList\n",
    "lines.Length"
   ]
  },
  {
   "cell_type": "markdown",
   "metadata": {},
   "source": [
    "### Solve the problem"
   ]
  },
  {
   "cell_type": "markdown",
   "metadata": {},
   "source": [
    "We define some types to capture the details of buttons and machines."
   ]
  },
  {
   "cell_type": "code",
   "execution_count": 3,
   "metadata": {
    "dotnet_interactive": {
     "language": "fsharp"
    },
    "polyglot_notebook": {
     "kernelName": "fsharp"
    },
    "vscode": {
     "languageId": "polyglot-notebook"
    }
   },
   "outputs": [],
   "source": [
    "type Button = { deltaX: int; deltaY: int}\n",
    "\n",
    "type Machine = { buttonA: Button; buttonB: Button; prizeX: int; prizeY: int }"
   ]
  },
  {
   "cell_type": "markdown",
   "metadata": {},
   "source": [
    "Now we use regular expressions to read the lines from the input text, and construct our list of machines."
   ]
  },
  {
   "cell_type": "code",
   "execution_count": 4,
   "metadata": {
    "dotnet_interactive": {
     "language": "fsharp"
    },
    "polyglot_notebook": {
     "kernelName": "fsharp"
    },
    "vscode": {
     "languageId": "polyglot-notebook"
    }
   },
   "outputs": [],
   "source": [
    "open System.Text.RegularExpressions"
   ]
  },
  {
   "cell_type": "code",
   "execution_count": 5,
   "metadata": {
    "dotnet_interactive": {
     "language": "fsharp"
    },
    "polyglot_notebook": {
     "kernelName": "fsharp"
    },
    "vscode": {
     "languageId": "polyglot-notebook"
    }
   },
   "outputs": [],
   "source": [
    "let buttonARegex = new Regex(@\"^Button A: X\\+(\\d+), Y\\+(\\d+)$\")\n",
    "let buttonBRegex = new Regex(@\"^Button B: X\\+(\\d+), Y\\+(\\d+)$\")\n",
    "let prizeRegex = new Regex(@\"^Prize: X=(\\d+), Y=(\\d+)$\")\n",
    "\n",
    "let readButtons (lines: string list): Machine list =\n",
    "    if (lines.IsEmpty)\n",
    "    then []\n",
    "    else\n",
    "        let rec iterate (lines: string list) (machines: Machine list) (buttonA: Button option) (buttonB: Button option): Machine list =\n",
    "            if (lines.IsEmpty)\n",
    "            then machines\n",
    "            else\n",
    "                match lines[0] with\n",
    "                | buttonAStr when buttonA.IsNone && buttonARegex.IsMatch(buttonAStr) ->\n",
    "                    let buttonAMatch = buttonARegex.Matches(buttonAStr)[0]\n",
    "                    iterate (lines.Tail) machines (Some {deltaX = buttonAMatch.Groups[1].Value |> Int32.Parse; deltaY = buttonAMatch.Groups[2].Value |> Int32.Parse}) buttonB\n",
    "                | buttonBStr when buttonB.IsNone && buttonBRegex.IsMatch(buttonBStr) ->\n",
    "                    let buttonBMatch = buttonBRegex.Matches(buttonBStr)[0]\n",
    "                    iterate (lines.Tail) machines buttonA (Some {deltaX = buttonBMatch.Groups[1].Value |> Int32.Parse; deltaY = buttonBMatch.Groups[2].Value |> Int32.Parse})\n",
    "                | prizeStr when prizeRegex.IsMatch(prizeStr) ->\n",
    "                    let prizeMatch = prizeRegex.Matches(prizeStr)[0]\n",
    "                    let machine = { buttonA = buttonA.Value; buttonB = buttonB.Value; prizeX = prizeMatch.Groups[1].Value |> Int32.Parse; prizeY = prizeMatch.Groups[2].Value |> Int32.Parse }  \n",
    "                    iterate (lines.Tail) (machine::machines) None None\n",
    "                | _ ->\n",
    "                    iterate lines.Tail machines buttonA buttonB\n",
    "        iterate lines [] None None |> List.rev"
   ]
  },
  {
   "cell_type": "code",
   "execution_count": 6,
   "metadata": {
    "dotnet_interactive": {
     "language": "fsharp"
    },
    "polyglot_notebook": {
     "kernelName": "fsharp"
    },
    "vscode": {
     "languageId": "polyglot-notebook"
    }
   },
   "outputs": [
    {
     "data": {
      "text/html": [
       "<div class=\"dni-plaintext\"><pre>320</pre></div><style>\r\n",
       ".dni-code-hint {\r\n",
       "    font-style: italic;\r\n",
       "    overflow: hidden;\r\n",
       "    white-space: nowrap;\r\n",
       "}\r\n",
       ".dni-treeview {\r\n",
       "    white-space: nowrap;\r\n",
       "}\r\n",
       ".dni-treeview td {\r\n",
       "    vertical-align: top;\r\n",
       "    text-align: start;\r\n",
       "}\r\n",
       "details.dni-treeview {\r\n",
       "    padding-left: 1em;\r\n",
       "}\r\n",
       "table td {\r\n",
       "    text-align: start;\r\n",
       "}\r\n",
       "table tr { \r\n",
       "    vertical-align: top; \r\n",
       "    margin: 0em 0px;\r\n",
       "}\r\n",
       "table tr td pre \r\n",
       "{ \r\n",
       "    vertical-align: top !important; \r\n",
       "    margin: 0em 0px !important;\r\n",
       "} \r\n",
       "table th {\r\n",
       "    text-align: start;\r\n",
       "}\r\n",
       "</style>"
      ]
     },
     "metadata": {},
     "output_type": "display_data"
    }
   ],
   "source": [
    "let machines = readButtons lines\n",
    "machines.Length"
   ]
  },
  {
   "cell_type": "code",
   "execution_count": 7,
   "metadata": {
    "dotnet_interactive": {
     "language": "fsharp"
    },
    "polyglot_notebook": {
     "kernelName": "fsharp"
    },
    "vscode": {
     "languageId": "polyglot-notebook"
    }
   },
   "outputs": [
    {
     "data": {
      "text/html": [
       "<details open=\"open\" class=\"dni-treeview\"><summary><span class=\"dni-code-hint\"><code>{ buttonA = { deltaX = 26\\n              deltaY = 56 }\\n  buttonB = { deltaX = 43\\n              deltaY = 22 }\\n  prizeX = 6138\\n  prizeY = 6756 }</code></span></summary><div><table><thead><tr></tr></thead><tbody><tr><td>buttonA</td><td><details class=\"dni-treeview\"><summary><span class=\"dni-code-hint\"><code>{ deltaX = 26\\n  deltaY = 56 }</code></span></summary><div><table><thead><tr></tr></thead><tbody><tr><td>deltaX</td><td><div class=\"dni-plaintext\"><pre>26</pre></div></td></tr><tr><td>deltaY</td><td><div class=\"dni-plaintext\"><pre>56</pre></div></td></tr></tbody></table></div></details></td></tr><tr><td>buttonB</td><td><details class=\"dni-treeview\"><summary><span class=\"dni-code-hint\"><code>{ deltaX = 43\\n  deltaY = 22 }</code></span></summary><div><table><thead><tr></tr></thead><tbody><tr><td>deltaX</td><td><div class=\"dni-plaintext\"><pre>43</pre></div></td></tr><tr><td>deltaY</td><td><div class=\"dni-plaintext\"><pre>22</pre></div></td></tr></tbody></table></div></details></td></tr><tr><td>prizeX</td><td><div class=\"dni-plaintext\"><pre>6138</pre></div></td></tr><tr><td>prizeY</td><td><div class=\"dni-plaintext\"><pre>6756</pre></div></td></tr></tbody></table></div></details><style>\r\n",
       ".dni-code-hint {\r\n",
       "    font-style: italic;\r\n",
       "    overflow: hidden;\r\n",
       "    white-space: nowrap;\r\n",
       "}\r\n",
       ".dni-treeview {\r\n",
       "    white-space: nowrap;\r\n",
       "}\r\n",
       ".dni-treeview td {\r\n",
       "    vertical-align: top;\r\n",
       "    text-align: start;\r\n",
       "}\r\n",
       "details.dni-treeview {\r\n",
       "    padding-left: 1em;\r\n",
       "}\r\n",
       "table td {\r\n",
       "    text-align: start;\r\n",
       "}\r\n",
       "table tr { \r\n",
       "    vertical-align: top; \r\n",
       "    margin: 0em 0px;\r\n",
       "}\r\n",
       "table tr td pre \r\n",
       "{ \r\n",
       "    vertical-align: top !important; \r\n",
       "    margin: 0em 0px !important;\r\n",
       "} \r\n",
       "table th {\r\n",
       "    text-align: start;\r\n",
       "}\r\n",
       "</style>"
      ]
     },
     "metadata": {},
     "output_type": "display_data"
    }
   ],
   "source": [
    "machines[0]"
   ]
  },
  {
   "cell_type": "markdown",
   "metadata": {},
   "source": [
    "So for each machine, we need to calculate what combinations of button A and button B presses get you to the prize location.  There could be *no solution*, or there could be *a single solution*.  For each machines, the equations that we have are:\n",
    "\n",
    "* $N_A A_x + N_B B_x = P_x$\n",
    "* $N_A A_y + N_B B_y = P_y$\n",
    "\n",
    "where $N_A$ and $N_B$ must be non-negative integers.  We could solve this as a simple matrix problem, but it's probably simpler (in some ways) to just iterate through possible values for $N_A$ and $N_B$ and see which give valid solutions."
   ]
  },
  {
   "cell_type": "code",
   "execution_count": 8,
   "metadata": {
    "dotnet_interactive": {
     "language": "fsharp"
    },
    "polyglot_notebook": {
     "kernelName": "fsharp"
    },
    "vscode": {
     "languageId": "polyglot-notebook"
    }
   },
   "outputs": [],
   "source": [
    "let solutions (machine: Machine): (int * int) list =\n",
    "    (seq {\n",
    "        for nA in 0..(max (machine.prizeX / machine.buttonA.deltaX) (machine.prizeY / machine.buttonA.deltaY)) do\n",
    "            for nB in 0..(max (machine.prizeX / machine.buttonB.deltaX) (machine.prizeY / machine.buttonB.deltaY)) do\n",
    "                if (nA * machine.buttonA.deltaX + nB * machine.buttonB.deltaX = machine.prizeX && nA * machine.buttonA.deltaY + nB * machine.buttonB.deltaY = machine.prizeY)\n",
    "                then yield (nA, nB)\n",
    "    } |> Seq.toList)"
   ]
  },
  {
   "cell_type": "code",
   "execution_count": 9,
   "metadata": {
    "dotnet_interactive": {
     "language": "fsharp"
    },
    "polyglot_notebook": {
     "kernelName": "fsharp"
    },
    "vscode": {
     "languageId": "polyglot-notebook"
    }
   },
   "outputs": [
    {
     "data": {
      "text/html": [
       "<div class=\"dni-plaintext\"><pre>129</pre></div><style>\r\n",
       ".dni-code-hint {\r\n",
       "    font-style: italic;\r\n",
       "    overflow: hidden;\r\n",
       "    white-space: nowrap;\r\n",
       "}\r\n",
       ".dni-treeview {\r\n",
       "    white-space: nowrap;\r\n",
       "}\r\n",
       ".dni-treeview td {\r\n",
       "    vertical-align: top;\r\n",
       "    text-align: start;\r\n",
       "}\r\n",
       "details.dni-treeview {\r\n",
       "    padding-left: 1em;\r\n",
       "}\r\n",
       "table td {\r\n",
       "    text-align: start;\r\n",
       "}\r\n",
       "table tr { \r\n",
       "    vertical-align: top; \r\n",
       "    margin: 0em 0px;\r\n",
       "}\r\n",
       "table tr td pre \r\n",
       "{ \r\n",
       "    vertical-align: top !important; \r\n",
       "    margin: 0em 0px !important;\r\n",
       "} \r\n",
       "table th {\r\n",
       "    text-align: start;\r\n",
       "}\r\n",
       "</style>"
      ]
     },
     "metadata": {},
     "output_type": "display_data"
    }
   ],
   "source": [
    "let machineSolutions =\n",
    "    machines\n",
    "    |> List.map (fun machine -> (machine, solutions machine))\n",
    "    |> List.filter (fun (_,solutions) -> not solutions.IsEmpty)\n",
    "    |> Map.ofList\n",
    "machineSolutions.Count"
   ]
  },
  {
   "cell_type": "markdown",
   "metadata": {},
   "source": [
    "So only 129 of the 320 machines have solutions."
   ]
  },
  {
   "cell_type": "code",
   "execution_count": 10,
   "metadata": {
    "dotnet_interactive": {
     "language": "fsharp"
    },
    "polyglot_notebook": {
     "kernelName": "fsharp"
    },
    "vscode": {
     "languageId": "polyglot-notebook"
    }
   },
   "outputs": [],
   "source": [
    "let machineTokens =\n",
    "    machineSolutions.Keys\n",
    "    |> Seq.map (fun machine -> (machine, machineSolutions[machine] |> List.map (fun (nA, nB) -> nA*3 + nB)))\n",
    "    |> Map.ofSeq"
   ]
  },
  {
   "cell_type": "code",
   "execution_count": 11,
   "metadata": {
    "dotnet_interactive": {
     "language": "fsharp"
    },
    "polyglot_notebook": {
     "kernelName": "fsharp"
    },
    "vscode": {
     "languageId": "polyglot-notebook"
    }
   },
   "outputs": [
    {
     "data": {
      "text/html": [
       "<div class=\"dni-plaintext\"><pre>28138</pre></div><style>\r\n",
       ".dni-code-hint {\r\n",
       "    font-style: italic;\r\n",
       "    overflow: hidden;\r\n",
       "    white-space: nowrap;\r\n",
       "}\r\n",
       ".dni-treeview {\r\n",
       "    white-space: nowrap;\r\n",
       "}\r\n",
       ".dni-treeview td {\r\n",
       "    vertical-align: top;\r\n",
       "    text-align: start;\r\n",
       "}\r\n",
       "details.dni-treeview {\r\n",
       "    padding-left: 1em;\r\n",
       "}\r\n",
       "table td {\r\n",
       "    text-align: start;\r\n",
       "}\r\n",
       "table tr { \r\n",
       "    vertical-align: top; \r\n",
       "    margin: 0em 0px;\r\n",
       "}\r\n",
       "table tr td pre \r\n",
       "{ \r\n",
       "    vertical-align: top !important; \r\n",
       "    margin: 0em 0px !important;\r\n",
       "} \r\n",
       "table th {\r\n",
       "    text-align: start;\r\n",
       "}\r\n",
       "</style>"
      ]
     },
     "metadata": {},
     "output_type": "display_data"
    }
   ],
   "source": [
    "let minTokens = machineTokens.Values |> Seq.map List.min |> Seq.sum\n",
    "minTokens"
   ]
  },
  {
   "cell_type": "markdown",
   "metadata": {},
   "source": [
    "## Claw Contraption - Part 2"
   ]
  },
  {
   "cell_type": "markdown",
   "metadata": {},
   "source": [
    "As you go to win the first prize, you discover that the claw is nowhere near where you expected it would be. Due to a unit conversion error in your measurements, the position of every prize is actually 10000000000000 higher on both the X and Y axis!\n",
    "\n",
    "Add 10000000000000 to the X and Y position of every prize. After making this change, the example above would now look like this:\n",
    "\n",
    "```\n",
    "Button A: X+94, Y+34\n",
    "Button B: X+22, Y+67\n",
    "Prize: X=10000000008400, Y=10000000005400\n",
    "```\n",
    "\n",
    "```\n",
    "Button A: X+26, Y+66\n",
    "Button B: X+67, Y+21\n",
    "Prize: X=10000000012748, Y=10000000012176\n",
    "```\n",
    "\n",
    "```\n",
    "Button A: X+17, Y+86\n",
    "Button B: X+84, Y+37\n",
    "Prize: X=10000000007870, Y=10000000006450\n",
    "```\n",
    "\n",
    "```\n",
    "Button A: X+69, Y+23\n",
    "Button B: X+27, Y+71\n",
    "Prize: X=10000000018641, Y=10000000010279\n",
    "```\n",
    "\n",
    "Now, it is only possible to win a prize on the second and fourth claw machines. Unfortunately, it will take **many more than 100 presses** to do so.\n",
    "\n",
    "Using the corrected prize coordinates, figure out how to win as many prizes as possible. **What is the fewest tokens you would have to spend to win all possible prizes?**"
   ]
  },
  {
   "cell_type": "markdown",
   "metadata": {},
   "source": [
    "### Solve the problem"
   ]
  },
  {
   "cell_type": "markdown",
   "metadata": {},
   "source": [
    "Now we have to increase the prize positions by a large fixed offset.  This probably makes the 'Part 1' algorithm too slow, in which case it will make sense to use the matrix solution that we eschewed in Part 1, and to switch from integer values to BigDecimal values."
   ]
  },
  {
   "cell_type": "code",
   "execution_count": 12,
   "metadata": {
    "dotnet_interactive": {
     "language": "fsharp"
    },
    "polyglot_notebook": {
     "kernelName": "fsharp"
    },
    "vscode": {
     "languageId": "polyglot-notebook"
    }
   },
   "outputs": [],
   "source": [
    "let offset = 10000000000000L"
   ]
  },
  {
   "cell_type": "code",
   "execution_count": 13,
   "metadata": {
    "dotnet_interactive": {
     "language": "fsharp"
    },
    "polyglot_notebook": {
     "kernelName": "fsharp"
    },
    "vscode": {
     "languageId": "polyglot-notebook"
    }
   },
   "outputs": [],
   "source": [
    "type Machine2 = { buttonA: Button; buttonB: Button; prize2X: int64; prize2Y: int64 }"
   ]
  },
  {
   "cell_type": "code",
   "execution_count": 14,
   "metadata": {
    "dotnet_interactive": {
     "language": "fsharp"
    },
    "polyglot_notebook": {
     "kernelName": "fsharp"
    },
    "vscode": {
     "languageId": "polyglot-notebook"
    }
   },
   "outputs": [
    {
     "data": {
      "text/html": [
       "<div class=\"dni-plaintext\"><pre>320</pre></div><style>\r\n",
       ".dni-code-hint {\r\n",
       "    font-style: italic;\r\n",
       "    overflow: hidden;\r\n",
       "    white-space: nowrap;\r\n",
       "}\r\n",
       ".dni-treeview {\r\n",
       "    white-space: nowrap;\r\n",
       "}\r\n",
       ".dni-treeview td {\r\n",
       "    vertical-align: top;\r\n",
       "    text-align: start;\r\n",
       "}\r\n",
       "details.dni-treeview {\r\n",
       "    padding-left: 1em;\r\n",
       "}\r\n",
       "table td {\r\n",
       "    text-align: start;\r\n",
       "}\r\n",
       "table tr { \r\n",
       "    vertical-align: top; \r\n",
       "    margin: 0em 0px;\r\n",
       "}\r\n",
       "table tr td pre \r\n",
       "{ \r\n",
       "    vertical-align: top !important; \r\n",
       "    margin: 0em 0px !important;\r\n",
       "} \r\n",
       "table th {\r\n",
       "    text-align: start;\r\n",
       "}\r\n",
       "</style>"
      ]
     },
     "metadata": {},
     "output_type": "display_data"
    }
   ],
   "source": [
    "let machines2 = machines |> List.map (fun machine -> { buttonA = machine.buttonA; buttonB = machine.buttonB; prize2X = (int64 machine.prizeX) + offset; prize2Y = (int64 machine.prizeY) + offset })\n",
    "machines2.Length"
   ]
  },
  {
   "cell_type": "markdown",
   "metadata": {},
   "source": [
    "It's quickly checked that the solution to\n",
    "\n",
    "* $N_A A_x + N_B B_x = P_x$\n",
    "* $N_A A_y + N_B B_y = P_y$\n",
    "\n",
    "is, assuming $A_x B_y - B_x A_y \\neq 0$,\n",
    "\n",
    "* $N_A = \\frac{B_y P_x - B_x P_y}{A_x B_y - B_x A_y}$\n",
    "* $N_B = \\frac{A_x P_y - A_y P_x}{A_x B_y - B_x A_y}$\n",
    "\n",
    "These solutions are only valid for this problem, though, if $N_A$ and $N_B$ are both integers, not fractions."
   ]
  },
  {
   "cell_type": "code",
   "execution_count": 15,
   "metadata": {
    "dotnet_interactive": {
     "language": "fsharp"
    },
    "polyglot_notebook": {
     "kernelName": "fsharp"
    },
    "vscode": {
     "languageId": "polyglot-notebook"
    }
   },
   "outputs": [],
   "source": [
    "open System.Numerics\n",
    "\n",
    "let bigDiv (a: BigInteger) (b: BigInteger): (BigInteger*BigInteger) option =\n",
    "    match b with\n",
    "    | zero when zero = BigInteger.Zero -> None\n",
    "    | _ -> Some (BigInteger.DivRem(a, b))"
   ]
  },
  {
   "cell_type": "code",
   "execution_count": 19,
   "metadata": {
    "dotnet_interactive": {
     "language": "fsharp"
    },
    "polyglot_notebook": {
     "kernelName": "fsharp"
    },
    "vscode": {
     "languageId": "polyglot-notebook"
    }
   },
   "outputs": [],
   "source": [
    "let solutions2 (machine: Machine2): (int64 * int64) list =\n",
    "    let denom = (BigInteger machine.buttonA.deltaX) * (BigInteger machine.buttonB.deltaY) - (BigInteger machine.buttonA.deltaY) * (BigInteger machine.buttonB.deltaX)\n",
    "    let nA = bigDiv ((BigInteger machine.buttonB.deltaY) * (BigInteger machine.prize2X) - (BigInteger machine.buttonB.deltaX) * (BigInteger machine.prize2Y)) denom\n",
    "    let nB = bigDiv ((BigInteger machine.buttonA.deltaX) * (BigInteger machine.prize2Y) - (BigInteger machine.buttonA.deltaY) * (BigInteger machine.prize2X)) denom\n",
    "    if (nA.IsSome && nB.IsSome && snd nA.Value = BigInteger.Zero && snd nB.Value = BigInteger.Zero)\n",
    "    then [int64 (fst nA.Value), int64 (fst nB.Value)]\n",
    "    else []"
   ]
  },
  {
   "cell_type": "code",
   "execution_count": 20,
   "metadata": {
    "dotnet_interactive": {
     "language": "fsharp"
    },
    "polyglot_notebook": {
     "kernelName": "fsharp"
    },
    "vscode": {
     "languageId": "polyglot-notebook"
    }
   },
   "outputs": [
    {
     "data": {
      "text/html": [
       "<div class=\"dni-plaintext\"><pre>191</pre></div><style>\r\n",
       ".dni-code-hint {\r\n",
       "    font-style: italic;\r\n",
       "    overflow: hidden;\r\n",
       "    white-space: nowrap;\r\n",
       "}\r\n",
       ".dni-treeview {\r\n",
       "    white-space: nowrap;\r\n",
       "}\r\n",
       ".dni-treeview td {\r\n",
       "    vertical-align: top;\r\n",
       "    text-align: start;\r\n",
       "}\r\n",
       "details.dni-treeview {\r\n",
       "    padding-left: 1em;\r\n",
       "}\r\n",
       "table td {\r\n",
       "    text-align: start;\r\n",
       "}\r\n",
       "table tr { \r\n",
       "    vertical-align: top; \r\n",
       "    margin: 0em 0px;\r\n",
       "}\r\n",
       "table tr td pre \r\n",
       "{ \r\n",
       "    vertical-align: top !important; \r\n",
       "    margin: 0em 0px !important;\r\n",
       "} \r\n",
       "table th {\r\n",
       "    text-align: start;\r\n",
       "}\r\n",
       "</style>"
      ]
     },
     "metadata": {},
     "output_type": "display_data"
    }
   ],
   "source": [
    "let machineSolutions2 =\n",
    "    machines2\n",
    "    |> List.map (fun machine -> (machine, solutions2 machine))\n",
    "    |> List.filter (fun (_,solutions) -> not solutions.IsEmpty)\n",
    "    |> Map.ofList\n",
    "machineSolutions2.Count"
   ]
  },
  {
   "cell_type": "code",
   "execution_count": 22,
   "metadata": {
    "dotnet_interactive": {
     "language": "fsharp"
    },
    "polyglot_notebook": {
     "kernelName": "fsharp"
    },
    "vscode": {
     "languageId": "polyglot-notebook"
    }
   },
   "outputs": [],
   "source": [
    "let machineTokens2 =\n",
    "    machineSolutions2.Keys\n",
    "    |> Seq.map (fun machine -> (machine, machineSolutions2[machine] |> List.map (fun (nA, nB) -> nA*3L + nB)))\n",
    "    |> Map.ofSeq"
   ]
  },
  {
   "cell_type": "code",
   "execution_count": 24,
   "metadata": {
    "dotnet_interactive": {
     "language": "fsharp"
    },
    "polyglot_notebook": {
     "kernelName": "fsharp"
    },
    "vscode": {
     "languageId": "polyglot-notebook"
    }
   },
   "outputs": [
    {
     "data": {
      "text/html": [
       "<div class=\"dni-plaintext\"><pre>108394825772874</pre></div><style>\r\n",
       ".dni-code-hint {\r\n",
       "    font-style: italic;\r\n",
       "    overflow: hidden;\r\n",
       "    white-space: nowrap;\r\n",
       "}\r\n",
       ".dni-treeview {\r\n",
       "    white-space: nowrap;\r\n",
       "}\r\n",
       ".dni-treeview td {\r\n",
       "    vertical-align: top;\r\n",
       "    text-align: start;\r\n",
       "}\r\n",
       "details.dni-treeview {\r\n",
       "    padding-left: 1em;\r\n",
       "}\r\n",
       "table td {\r\n",
       "    text-align: start;\r\n",
       "}\r\n",
       "table tr { \r\n",
       "    vertical-align: top; \r\n",
       "    margin: 0em 0px;\r\n",
       "}\r\n",
       "table tr td pre \r\n",
       "{ \r\n",
       "    vertical-align: top !important; \r\n",
       "    margin: 0em 0px !important;\r\n",
       "} \r\n",
       "table th {\r\n",
       "    text-align: start;\r\n",
       "}\r\n",
       "</style>"
      ]
     },
     "metadata": {},
     "output_type": "display_data"
    }
   ],
   "source": [
    "let minTokens2 = machineTokens2.Values |> Seq.map List.min |> Seq.sum\n",
    "minTokens2"
   ]
  }
 ],
 "metadata": {
  "kernelspec": {
   "display_name": ".NET (C#)",
   "language": "C#",
   "name": ".net-csharp"
  },
  "language_info": {
   "name": "python"
  },
  "polyglot_notebook": {
   "kernelInfo": {
    "defaultKernelName": "csharp",
    "items": [
     {
      "aliases": [],
      "name": "csharp"
     }
    ]
   }
  }
 },
 "nbformat": 4,
 "nbformat_minor": 2
}
